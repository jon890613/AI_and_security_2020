{
  "nbformat": 4,
  "nbformat_minor": 0,
  "metadata": {
    "colab": {
      "name": "Untitled2.ipynb",
      "provenance": [],
      "authorship_tag": "ABX9TyPPZmTaOEB9RsLbRv6Xx9WV",
      "include_colab_link": true
    },
    "kernelspec": {
      "name": "python3",
      "display_name": "Python 3"
    }
  },
  "cells": [
    {
      "cell_type": "markdown",
      "metadata": {
        "id": "view-in-github",
        "colab_type": "text"
      },
      "source": [
        "<a href=\"https://colab.research.google.com/github/jon890613/AI_and_security_2020/blob/master/1007.ipynb\" target=\"_parent\"><img src=\"https://colab.research.google.com/assets/colab-badge.svg\" alt=\"Open In Colab\"/></a>"
      ]
    },
    {
      "cell_type": "code",
      "metadata": {
        "id": "7XU1LEDN6_-t",
        "outputId": "45d9852f-a84b-4b74-a525-10911cb13bd4",
        "colab": {
          "base_uri": "https://localhost:8080/"
        }
      },
      "source": [
        "import numpy as np\n",
        "ar2=np.array([[1,3,5],[2,8,7]]) #\n",
        "# ar2.shape\n",
        "ar2.ndim  #維度"
      ],
      "execution_count": 9,
      "outputs": [
        {
          "output_type": "execute_result",
          "data": {
            "text/plain": [
              "2"
            ]
          },
          "metadata": {
            "tags": []
          },
          "execution_count": 9
        }
      ]
    },
    {
      "cell_type": "code",
      "metadata": {
        "id": "PzFCdu1F7s6f",
        "outputId": "e8ebfffc-be6b-411a-80f2-4aef4904f915",
        "colab": {
          "base_uri": "https://localhost:8080/"
        }
      },
      "source": [
        "ar=np.array([2,4,6,8]); \n",
        "ar.dtype"
      ],
      "execution_count": 10,
      "outputs": [
        {
          "output_type": "execute_result",
          "data": {
            "text/plain": [
              "dtype('int64')"
            ]
          },
          "metadata": {
            "tags": []
          },
          "execution_count": 10
        }
      ]
    },
    {
      "cell_type": "code",
      "metadata": {
        "id": "u4oWqh1z71y-",
        "outputId": "d9b485a8-5593-4953-99f0-bc729fbe5e03",
        "colab": {
          "base_uri": "https://localhost:8080/"
        }
      },
      "source": [
        "f_ar = np.array([13,-3,8.88])\n",
        "print(f_ar)\n",
        "\n",
        "intf_ar=f_ar.astype(int)\n",
        "print(intf_ar)"
      ],
      "execution_count": 17,
      "outputs": [
        {
          "output_type": "stream",
          "text": [
            "[13.   -3.    8.88]\n",
            "[13 -3  8]\n"
          ],
          "name": "stdout"
        }
      ]
    },
    {
      "cell_type": "code",
      "metadata": {
        "id": "9qLLVyn-79HG",
        "outputId": "16b0cc82-af78-4f7e-f3b5-8db55b02e17a",
        "colab": {
          "base_uri": "https://localhost:8080/"
        }
      },
      "source": [
        "data = np.random.randn(2,3)\n",
        "print(data)"
      ],
      "execution_count": 20,
      "outputs": [
        {
          "output_type": "stream",
          "text": [
            "[[-0.76505306 -0.43454336  0.14432207]\n",
            " [ 0.45647399  0.1271756  -0.54305463]]\n"
          ],
          "name": "stdout"
        }
      ]
    },
    {
      "cell_type": "code",
      "metadata": {
        "id": "PFgQGQMKDIJz",
        "outputId": "891609ad-e61e-44fa-d36c-0e9d2cb92280",
        "colab": {
          "base_uri": "https://localhost:8080/"
        }
      },
      "source": [
        "data = np.random.uniform(1,5,5)\n",
        "print(data)"
      ],
      "execution_count": 27,
      "outputs": [
        {
          "output_type": "stream",
          "text": [
            "[4.90609656 3.58347658 1.37179701 3.87114029 1.34274464]\n"
          ],
          "name": "stdout"
        }
      ]
    },
    {
      "cell_type": "code",
      "metadata": {
        "id": "c-eGDrNPE3-l",
        "outputId": "92109fe5-331d-4124-cec6-a5fa1f061a97",
        "colab": {
          "base_uri": "https://localhost:8080/"
        }
      },
      "source": [
        "sum(data)"
      ],
      "execution_count": 28,
      "outputs": [
        {
          "output_type": "execute_result",
          "data": {
            "text/plain": [
              "15.075255069891961"
            ]
          },
          "metadata": {
            "tags": []
          },
          "execution_count": 28
        }
      ]
    }
  ]
}